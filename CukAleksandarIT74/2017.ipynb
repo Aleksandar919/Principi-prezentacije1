{
  "nbformat": 4,
  "nbformat_minor": 0,
  "metadata": {
    "colab": {
      "name": "Untitled0.ipynb",
      "provenance": [],
      "collapsed_sections": [],
      "authorship_tag": "ABX9TyNJC8oomUzBL85HuFTsoZjF",
      "include_colab_link": true
    },
    "kernelspec": {
      "name": "python3",
      "display_name": "Python 3"
    },
    "language_info": {
      "name": "python"
    }
  },
  "cells": [
    {
      "cell_type": "markdown",
      "metadata": {
        "id": "view-in-github",
        "colab_type": "text"
      },
      "source": [
        "<a href=\"https://colab.research.google.com/github/Aleksandar919/Principi-prezentacije1/blob/main/CukAleksandarIT74/2017.ipynb\" target=\"_parent\"><img src=\"https://colab.research.google.com/assets/colab-badge.svg\" alt=\"Open In Colab\"/></a>"
      ]
    },
    {
      "cell_type": "markdown",
      "metadata": {
        "id": "aVq-UfQ4J0cK"
      },
      "source": [
        "UVOD\n",
        "\n",
        "Age/Gender Recognition with Deep Learning Model // Prepoznavanje starosti/pola uz model dubokog učenja. Procena starosti lica na fotografiji može se postaviti kao duboki problem klasifikacije koristeći CNN praćen očekivanom preciziranjem softmax vrednosti (kao što se može uraditi sa modelom DeepEXpectation (DEX)).\n",
        "\n",
        "Prikazaćemo kako se koristi unapred obučeni model dubokog učenja (WideResNet sa dva sloja klasifikacije dodata povrh njega, koji istovremeno procenjuje starost i pol pomoću jednog CNN-a) za prepoznavanje starosti i pola iz fotografije lica.\n",
        "\n",
        "Za prepoznavanje starosti i pola koristićemo fotografije lica iz skupa podataka o poznatim licima. U izradi projekta koristi se dataset wiki_crop."
      ]
    },
    {
      "cell_type": "code",
      "metadata": {
        "colab": {
          "base_uri": "https://localhost:8080/"
        },
        "id": "4jegSjI2J9WI",
        "outputId": "84d54499-65c5-46e6-eee6-8a34cdc749c3"
      },
      "source": [
        "#Ucitavanje dataseta\n",
        "!wget --load-cookies /tmp/cookies.txt \"https://docs.google.com/uc?export=download&confirm=$(wget --quiet --save-cookies /tmp/cookies.txt --keep-session-cookies --no-check-certificate 'https://drive.google.com/file/d/19Ki9YhdluVkBFxYzZa4Sof1tzLW-QsNI/view?usp=sharing' -O- | sed -rn 's/.*confirm=([0-9A-Za-z_]+).*/\\1\\n/p')&id=1oq1xgCGm47T5pEyjmbgxggQzzoEeENfT\" -O images.zip && rm -rf /tmp/cookies.txt"
      ],
      "execution_count": 18,
      "outputs": [
        {
          "output_type": "stream",
          "name": "stdout",
          "text": [
            "--2021-09-25 19:35:02--  https://docs.google.com/uc?export=download&confirm=&id=1oq1xgCGm47T5pEyjmbgxggQzzoEeENfT\n",
            "Resolving docs.google.com (docs.google.com)... 108.177.125.100, 108.177.125.138, 108.177.125.139, ...\n",
            "Connecting to docs.google.com (docs.google.com)|108.177.125.100|:443... connected.\n",
            "HTTP request sent, awaiting response... 200 OK\n",
            "Length: unspecified [text/html]\n",
            "Saving to: ‘images.zip’\n",
            "\n",
            "images.zip              [ <=>                ]   3.21K  --.-KB/s    in 0s      \n",
            "\n",
            "2021-09-25 19:35:03 (49.2 MB/s) - ‘images.zip’ saved [3291]\n",
            "\n"
          ]
        }
      ]
    },
    {
      "cell_type": "code",
      "metadata": {
        "colab": {
          "base_uri": "https://localhost:8080/"
        },
        "id": "eQ_yOOs9LDlK",
        "outputId": "f9e189ae-a879-4264-fa9e-c67c5864af66"
      },
      "source": [
        "#Unzip images.zip\n",
        "!unzip -q /My_Drive/content/images.zip "
      ],
      "execution_count": 24,
      "outputs": [
        {
          "output_type": "stream",
          "name": "stdout",
          "text": [
            "unzip:  cannot find or open /My_Drive/content/images.zip, /My_Drive/content/images.zip.zip or /My_Drive/content/images.zip.ZIP.\n"
          ]
        }
      ]
    },
    {
      "cell_type": "markdown",
      "metadata": {
        "id": "_Wj-rk9MNsRB"
      },
      "source": [
        "Pre nego što se počne sa treniranjem i obradom podataka izvršeno je \"pročišćavanje\" podataka iz wiki-mat fajla. Postoji više problema u dataset-u. Slike nisu istih veličina, neke slike nemaju lica, godine su pogrešne itd.. Rešavanjem ovakvih problema dobija se dataset na kome je moguće vršiti Machine Learning. Na taj način dobija se dataset sa dva fajla age i gender. U svakom od fajlova nalaze se test i train podaci."
      ]
    },
    {
      "cell_type": "code",
      "metadata": {
        "id": "Hhic4hTLN-qS"
      },
      "source": [
        "# Import neophodnih modula\n",
        "import numpy as np\n",
        "from scipy.io import loadmat\n",
        "import pandas as pd\n",
        "import datetime as date\n",
        "from dateutil.relativedelta import relativedelta\n",
        "\n",
        "cols = ['age', 'gender', 'path', 'face_score1', 'face_score2']\n",
        "\n",
        "wiki_mat = '/content/wiki_crop/wiki.mat'\n",
        "\n",
        "wiki_data = loadmat(wiki_mat)\n",
        "\n",
        "del wiki_mat\n",
        "\n",
        "wiki = wiki_data['wiki']\n",
        "\n",
        "wiki_photo_taken = wiki[0][0][1][0]\n",
        "wiki_full_path = wiki[0][0][2][0]\n",
        "wiki_gender = wiki[0][0][3][0]\n",
        "wiki_face_score1 = wiki[0][0][6][0]\n",
        "wiki_face_score2 = wiki[0][0][7][0]\n",
        "\n",
        "wiki_path = []\n",
        "\n",
        "for path in wiki_full_path:\n",
        "    wiki_path.append('wiki_crop/' + path[0])\n",
        "\n",
        "wiki_genders = []\n",
        "\n",
        "for n in range(len(wiki_gender)):\n",
        "    if wiki_gender[n] == 1:\n",
        "        wiki_genders.append('male')\n",
        "    else:\n",
        "        wiki_genders.append('female')\n",
        "\n",
        "wiki_dob = []\n",
        "\n",
        "for file in wiki_path:\n",
        "    wiki_dob.append(file.split('_')[2])\n",
        "\n",
        "wiki_age = []\n",
        "\n",
        "for i in range(len(wiki_dob)):\n",
        "    try:\n",
        "        d1 = date.datetime.strptime(wiki_dob[i][0:10], '%Y-%m-%d')\n",
        "        d2 = date.datetime.strptime(str(wiki_photo_taken[i]), '%Y')\n",
        "        rdelta = relativedelta(d2, d1)\n",
        "        diff = rdelta.years\n",
        "    except Exception as ex:\n",
        "        print(ex)\n",
        "        diff = -1\n",
        "    wiki_age.append(diff)\n",
        "\n",
        "final_wiki = np.vstack((wiki_age, wiki_genders, wiki_path, wiki_face_score1, wiki_face_score2)).T\n",
        "\n",
        "final_wiki_df = pd.DataFrame(final_wiki)\n",
        "\n",
        "final_wiki_df.columns = cols\n",
        "\n",
        "meta = final_wiki_df\n",
        "\n",
        "meta = meta[meta['face_score1'] != '-inf']\n",
        "meta = meta[meta['face_score2'] == 'nan']\n",
        "\n",
        "meta = meta.drop(['face_score1', 'face_score2'], axis=1)\n",
        "\n",
        "meta = meta.sample(frac=1)\n",
        "\n",
        "meta.to_csv('meta.csv', index=False)"
      ],
      "execution_count": null,
      "outputs": []
    },
    {
      "cell_type": "code",
      "metadata": {
        "id": "r8yNn0L2OAJw"
      },
      "source": [
        "# Import neophodnih modula\n",
        "import pandas as pd\n",
        "import numpy as np\n",
        "import cv2\n",
        "import os\n",
        "from sklearn.model_selection import train_test_split\n",
        "\n",
        "# Učitavanje dataseta\n",
        "meta = pd.read_csv('meta.csv')\n",
        "\n",
        "# Brisanje kolone sa polom\n",
        "meta = meta.drop(['gender'], axis=1)\n",
        "\n",
        "# Filtriranje dataseta\n",
        "meta = meta[meta['age'] >= 0]\n",
        "meta = meta[meta['age'] <= 101]\n",
        "\n",
        "# Konverzija vrednosti podataka u numpy array\n",
        "meta = meta.values\n",
        "\n",
        "# Podela dataseta na trening i testni skup\n",
        "D_train, D_test = train_test_split(meta, test_size=0.2, random_state=42)\n",
        "\n",
        "# Kreiranje svih neophodnih direktorijuma\n",
        "for i in range(102):\n",
        "    output_dir_train_male = 'dataset/age/train/' + str(i)\n",
        "    output_dir_train_female = 'dataset/age/train/' + str(i)\n",
        "\n",
        "    if not os.path.exists(output_dir_train_male):\n",
        "        os.makedirs(output_dir_train_male)\n",
        "\n",
        "    if not os.path.exists(output_dir_train_female):\n",
        "        os.makedirs(output_dir_train_female)\n",
        "\n",
        "    output_dir_test_male = 'dataset/age/test/' + str(i)\n",
        "    output_dir_test_female = 'dataset/age/test/' + str(i)\n",
        "\n",
        "    if not os.path.exists(output_dir_test_male):\n",
        "        os.makedirs(output_dir_test_male)\n",
        "\n",
        "    if not os.path.exists(output_dir_test_female):\n",
        "        os.makedirs(output_dir_test_female)\n",
        "\n",
        "# Kreiranje trening i testnog seta\n",
        "counter = 0\n",
        "\n",
        "for image in D_train:\n",
        "    img = cv2.imread(image[1], 1)\n",
        "    img = cv2.resize(img, (128,128))\n",
        "    cv2.imwrite('dataset/age/train/' + str(image[0]) + '/' + str(counter) + '.jpg', img)\n",
        "    print('--('+str(counter)+')Processing--')\n",
        "    counter += 1\n",
        "\n",
        "counter = 0\n",
        "\n",
        "for image in D_test:\n",
        "    img = cv2.imread(image[1], 1)\n",
        "    img = cv2.resize(img, (128,128))\n",
        "    cv2.imwrite('dataset/age/test/' + str(image[0]) +  '/' + str(counter) + '.jpg', img)\n",
        "    print('--('+str(counter)+')Processing--')\n",
        "    counter += 1"
      ],
      "execution_count": null,
      "outputs": []
    },
    {
      "cell_type": "code",
      "metadata": {
        "id": "3H9-jwycOV0m"
      },
      "source": [
        "# Import neophodnih modula\n",
        "import pandas as pd\n",
        "import numpy as np\n",
        "import cv2\n",
        "import os\n",
        "from sklearn.model_selection import train_test_split\n",
        "\n",
        "# Učitavanje podataka\n",
        "meta = pd.read_csv('meta.csv')\n",
        "\n",
        "# Brisanje kolone o godinama, s obzirom da mi više ne treba\n",
        "meta = meta.drop(['age'], axis=1)\n",
        "\n",
        "# Podela dataseta u trening i testni skup\n",
        "D_train, D_test = train_test_split(meta, test_size=0.1, random_state=42)\n",
        "\n",
        "# Dataset sadrži više slika lica osoba muškog pola nego ženskog --- ovo može da dovede do problema...\n",
        "# Kako bi se rešio ovaj problem, selektuje se isti broj muških i ženskih lica u trening skupu\n",
        "D_train_male = D_train[D_train['gender'] == 'male']\n",
        "D_train_female = D_train[D_train['gender'] == 'female']\n",
        "\n",
        "no_male = len(D_train_male)\n",
        "no_female = len(D_train_female)\n",
        "\n",
        "extra = D_train_male[no_female:]\n",
        "D_train_male = D_train_male[0:no_female]\n",
        "\n",
        "D_test = pd.concat((D_test, extra))\n",
        "\n",
        "D_train = pd.concat((D_train_male, D_train_female))\n",
        "\n",
        "# Shuffling dataseta\n",
        "D_train = D_train.sample(frac=1)\n",
        "D_test = D_test.sample(frac=1)\n",
        "\n",
        "# Kreiranje direktorijuma\n",
        "output_dir_train_male = 'dataset/gender/train/male'\n",
        "output_dir_train_female = 'dataset/gender/train/female'\n",
        "\n",
        "if not os.path.exists(output_dir_train_male):\n",
        "    os.makedirs(output_dir_train_male)\n",
        "\n",
        "if not os.path.exists(output_dir_train_female):\n",
        "    os.makedirs(output_dir_train_female)\n",
        "\n",
        "output_dir_test_male = 'dataset/gender/test/male'\n",
        "output_dir_test_female = 'dataset/gender/test/female'\n",
        "\n",
        "if not os.path.exists(output_dir_test_male):\n",
        "    os.makedirs(output_dir_test_male)\n",
        "\n",
        "if not os.path.exists(output_dir_test_female):\n",
        "    os.makedirs(output_dir_test_female)\n",
        "\n",
        "# Ubacivanje slika u trening i test skup\n",
        "counter = 0\n",
        "\n",
        "for image in D_train.values:\n",
        "    img = cv2.imread(image[1], 1)\n",
        "    img = cv2.resize(img, (128,128))\n",
        "    if image[0] == 'male':\n",
        "        cv2.imwrite('dataset/gender/train/male/' + str(counter) + '.jpg', img)\n",
        "    else:\n",
        "        cv2.imwrite('dataset/gender/train/female/' + str(counter) + '.jpg', img)\n",
        "    print('--('+str(counter)+')Processing--')\n",
        "    counter += 1\n",
        "\n",
        "counter = 0\n",
        "\n",
        "for image in D_test.values:\n",
        "    img = cv2.imread(image[1], 1)\n",
        "    img = cv2.resize(img, (128,128))\n",
        "    if image[0] == 'male':\n",
        "        cv2.imwrite('dataset/gender/test/male/' + str(counter) + '.jpg', img)\n",
        "    else:\n",
        "        cv2.imwrite('dataset/gender/test/female/' + str(counter) + '.jpg', img)\n",
        "    print('--('+str(counter)+')Processing--')\n",
        "    counter += 1"
      ],
      "execution_count": null,
      "outputs": []
    },
    {
      "cell_type": "code",
      "metadata": {
        "id": "LoU_eHVlOZYb"
      },
      "source": [
        "!pip install Sequential"
      ],
      "execution_count": null,
      "outputs": []
    },
    {
      "cell_type": "markdown",
      "metadata": {
        "id": "iuuj-gy0Ocjz"
      },
      "source": [
        "**Treniranje modela**"
      ]
    },
    {
      "cell_type": "code",
      "metadata": {
        "id": "iO__-XrpOmFH"
      },
      "source": [
        "# Import neophodnih modula\n",
        "from keras.models import Sequential\n",
        "from keras.layers import Dense, Flatten, MaxPooling2D, Conv2D, Dropout\n",
        "from keras.applications.vgg16 import VGG16\n",
        "from keras.applications.inception_resnet_v2 import InceptionResNetV2, preprocess_input\n",
        "\n",
        "from keras import optimizers\n",
        "from keras.preprocessing.image import ImageDataGenerator"
      ],
      "execution_count": null,
      "outputs": []
    },
    {
      "cell_type": "code",
      "metadata": {
        "id": "XYTW0WYOOoZq"
      },
      "source": [
        "#Kreiranje modela\n",
        "model = Sequential()"
      ],
      "execution_count": null,
      "outputs": []
    },
    {
      "cell_type": "code",
      "metadata": {
        "id": "LyN5V0tcOre8"
      },
      "source": [
        "#Za ovaj model koristi se InceptionResNetV2\n",
        "inception = InceptionResNetV2(include_top=False,\n",
        "                          weights=\"imagenet\", \n",
        "                          input_shape=(128,128,3),\n",
        "                          pooling=\"max\")"
      ],
      "execution_count": null,
      "outputs": []
    },
    {
      "cell_type": "code",
      "metadata": {
        "id": "BR4U_tUkOupX"
      },
      "source": [
        "#Dodavanje modela i konfigurisanje izlaza\n",
        "model.add(inception)\n",
        "model.add(Dense(units=102, activation=\"softmax\"))"
      ],
      "execution_count": null,
      "outputs": []
    },
    {
      "cell_type": "code",
      "metadata": {
        "id": "ghSqn48WOxr_"
      },
      "source": [
        "#Kompajliranje modela\n",
        "model.compile(loss='categorical_crossentropy', optimizer=optimizers.RMSprop(lr=2e-5), metrics=['accuracy'])"
      ],
      "execution_count": null,
      "outputs": []
    },
    {
      "cell_type": "code",
      "metadata": {
        "id": "CjlsSTH9O1Af"
      },
      "source": [
        "#Prikaz podataka\n",
        "print(model.summary())"
      ],
      "execution_count": null,
      "outputs": []
    },
    {
      "cell_type": "code",
      "metadata": {
        "id": "CwMmG-DZO49A"
      },
      "source": [
        "#Upotreba ImageDataGenerator klase \n",
        "train_datagen = ImageDataGenerator(rescale=1./255,shear_range=0.2,zoom_range=0.3)\n",
        "test_datagen = ImageDataGenerator(rescale=1./255)"
      ],
      "execution_count": null,
      "outputs": []
    },
    {
      "cell_type": "code",
      "metadata": {
        "id": "mqZl99IOO7qa"
      },
      "source": [
        "#Čitanje training seta\n",
        "train_generator = train_datagen.flow_from_directory('dataset/age/train',\n",
        "                                                    target_size=(128, 128),\n",
        "                                                    batch_size=32,\n",
        "                                                    class_mode='categorical')"
      ],
      "execution_count": null,
      "outputs": []
    },
    {
      "cell_type": "code",
      "metadata": {
        "id": "IG9nsZujO-Tl"
      },
      "source": [
        "#Čitanje testnog seta\n",
        "test_set = test_datagen.flow_from_directory('dataset/age/test',\n",
        "                                            target_size=(128, 128),\n",
        "                                            batch_size=32,\n",
        "                                            class_mode='categorical')"
      ],
      "execution_count": null,
      "outputs": []
    },
    {
      "cell_type": "code",
      "metadata": {
        "id": "Y0NUF8T-PBAf"
      },
      "source": [
        "# Treniranje modela\n",
        "model.fit_generator(train_generator,\n",
        "                    steps_per_epoch=10,\n",
        "                    epochs=2,\n",
        "                    validation_data=test_set,\n",
        "                    validation_steps=1500)"
      ],
      "execution_count": null,
      "outputs": []
    },
    {
      "cell_type": "code",
      "metadata": {
        "id": "clPUfsClPD7j"
      },
      "source": [
        "#Čuvanje modela\n",
        "model.save('weights/age_inception.h5')"
      ],
      "execution_count": null,
      "outputs": []
    },
    {
      "cell_type": "markdown",
      "metadata": {
        "id": "jpZ8rujQPGxW"
      },
      "source": [
        "Na identičan način odrađeno je i za GENDER."
      ]
    },
    {
      "cell_type": "code",
      "metadata": {
        "id": "uY0DoxGKPIIW"
      },
      "source": [
        "# Import neophodnih modula\n",
        "from keras.models import Sequential\n",
        "from keras.layers import Dense, Flatten, MaxPooling2D, Conv2D, Dropout\n",
        "from keras.applications.vgg16 import VGG16\n",
        "from keras.applications.inception_resnet_v2 import InceptionResNetV2, preprocess_input\n",
        "\n",
        "from keras import optimizers\n",
        "from keras.preprocessing.image import ImageDataGenerator"
      ],
      "execution_count": null,
      "outputs": []
    },
    {
      "cell_type": "code",
      "metadata": {
        "id": "nR5WYfrlPMMh"
      },
      "source": [
        "# Kreiranje modela\n",
        "model = Sequential()"
      ],
      "execution_count": null,
      "outputs": []
    },
    {
      "cell_type": "code",
      "metadata": {
        "id": "UMsQ0V22POZ9"
      },
      "source": [
        "#Za ovaj model koristi se InceptionResNetV2\n",
        "inception = InceptionResNetV2(include_top=False,\n",
        "                          weights=\"imagenet\", \n",
        "                          input_shape=(128,128,3),\n",
        "                          pooling=\"max\")"
      ],
      "execution_count": null,
      "outputs": []
    },
    {
      "cell_type": "code",
      "metadata": {
        "id": "xt4jbvwvPQl-"
      },
      "source": [
        "#Dodavanje modela i konfigurisanje izlaza\n",
        "model.add(inception)\n",
        "model.add(Dense(units=2, activation=\"softmax\"))"
      ],
      "execution_count": null,
      "outputs": []
    },
    {
      "cell_type": "code",
      "metadata": {
        "id": "6He1Odn5PTLn"
      },
      "source": [
        "# Kompajliranje modela\n",
        "model.compile(loss='binary_crossentropy', optimizer=optimizers.RMSprop(lr=2e-5), metrics=['accuracy'])"
      ],
      "execution_count": null,
      "outputs": []
    },
    {
      "cell_type": "code",
      "metadata": {
        "id": "Yy8MS45JPV2_"
      },
      "source": [
        "# Prikaz podataka modela\n",
        "print(model.summary())"
      ],
      "execution_count": null,
      "outputs": []
    },
    {
      "cell_type": "code",
      "metadata": {
        "id": "1kgRzPYqPZKF"
      },
      "source": [
        "# Upotreba ImageDataGenerator klase \n",
        "train_datagen = ImageDataGenerator(rescale=1./255,shear_range=0.2,zoom_range=0.3)\n",
        "test_datagen = ImageDataGenerator(rescale=1./255)"
      ],
      "execution_count": null,
      "outputs": []
    },
    {
      "cell_type": "code",
      "metadata": {
        "id": "pcCn_fF0PdAE"
      },
      "source": [
        "# Čitanje training seta\n",
        "train_generator = train_datagen.flow_from_directory('dataset/gender/train',\n",
        "                                                    target_size=(128, 128),\n",
        "                                                    batch_size=64,\n",
        "                                                    class_mode='categorical')"
      ],
      "execution_count": null,
      "outputs": []
    },
    {
      "cell_type": "code",
      "metadata": {
        "id": "h8AZ7AWPPhA8"
      },
      "source": [
        "# Čitanje testnog seta\n",
        "test_set = test_datagen.flow_from_directory('dataset/gender/test',\n",
        "                                            target_size=(128, 128),\n",
        "                                            batch_size=64,\n",
        "                                            class_mode='categorical')"
      ],
      "execution_count": null,
      "outputs": []
    },
    {
      "cell_type": "code",
      "metadata": {
        "id": "esondDlZPjbh"
      },
      "source": [
        "# Treniranje modela\n",
        "model.fit_generator(train_generator,\n",
        "                    steps_per_epoch=10,\n",
        "                    epochs=2,\n",
        "                    validation_data=test_set,\n",
        "                    validation_steps=800)"
      ],
      "execution_count": null,
      "outputs": []
    },
    {
      "cell_type": "code",
      "metadata": {
        "id": "ES9ddCRvPmDj"
      },
      "source": [
        "# Čuvanje modela\n",
        "model.save('weights/gender_inception.h5')"
      ],
      "execution_count": null,
      "outputs": []
    },
    {
      "cell_type": "markdown",
      "metadata": {
        "id": "mWCAqulnPomM"
      },
      "source": [
        "Model sa vežbi"
      ]
    },
    {
      "cell_type": "code",
      "metadata": {
        "id": "ja7SaeuWPsm9"
      },
      "source": [
        "!wget -p /models https://github.com/yu4u/age-gender-estimation/releases/download/v0.5/weights.29-3.76_utk.hdf5"
      ],
      "execution_count": null,
      "outputs": []
    },
    {
      "cell_type": "code",
      "metadata": {
        "id": "vtEL4zu2P0hO"
      },
      "source": [
        "#Učitavanje modela\n",
        "!wget --load-cookies /tmp/cookies.txt \"https://docs.google.com/uc?export=download&confirm=$(wget --quiet --save-cookies /tmp/cookies.txt --keep-session-cookies --no-check-certificate 'https://drive.google.com/file/d/1kvEeaHu335molambdynhxwx6cbp7D9ST/view?usp=sharing' -O- | sed -rn 's/.*confirm=([0-9A-Za-z_]+).*/\\1\\n/p')&id=1oyfGIejVqiwE287uF6sU_LX5eHU2Pmgx\" -O models.zip && rm -rf /tmp/cookies.txt"
      ],
      "execution_count": null,
      "outputs": []
    },
    {
      "cell_type": "code",
      "metadata": {
        "id": "hywgqEigQDen"
      },
      "source": [
        "#Unzipovanje modela sa vežbi\n",
        "!unzip models.zip"
      ],
      "execution_count": null,
      "outputs": []
    },
    {
      "cell_type": "code",
      "metadata": {
        "id": "mt42LAWuQImA"
      },
      "source": [
        "!pip install dlib"
      ],
      "execution_count": null,
      "outputs": []
    },
    {
      "cell_type": "code",
      "metadata": {
        "id": "1JqMmLkRQUL5"
      },
      "source": [
        "#Import neopodnih modula\n",
        "import sys\n",
        "import numpy as np\n",
        "from keras.models import Model\n",
        "from keras import backend as K\n",
        "import cv2\n",
        "import dlib\n",
        "from keras.models import model_from_json\n",
        "from glob import glob\n",
        "import matplotlib.pylab as plt"
      ],
      "execution_count": null,
      "outputs": []
    },
    {
      "cell_type": "code",
      "metadata": {
        "id": "YCZggXdZQXDW"
      },
      "source": [
        "depth = 16\n",
        "k = width = 8\n",
        "margin = 0.4\n",
        "img_size = 64"
      ],
      "execution_count": null,
      "outputs": []
    },
    {
      "cell_type": "code",
      "metadata": {
        "id": "aR5SUuxaQbWV"
      },
      "source": [
        "# Funkcija za iscrtavanje graničnih okvira sa oznakom godina/pola\n",
        "def draw_label(image, point, label, font=cv2.FONT_HERSHEY_SIMPLEX, font_scale=1.2, thickness=3):\n",
        "    size = cv2.getTextSize(label, font, font_scale, thickness)[0]\n",
        "    x, y = point\n",
        "    cv2.rectangle(image, (x, y - size[1]), (x + size[0], y), (255, 0, 0), cv2.FILLED)\n",
        "    cv2.putText(image, label, point, font, font_scale, (255, 255, 255), thickness, lineType=cv2.LINE_AA)"
      ],
      "execution_count": null,
      "outputs": []
    },
    {
      "cell_type": "code",
      "metadata": {
        "id": "_mSU0Cf5QeQc"
      },
      "source": [
        "# Frontalni detektor lica za otkrivanje i izdvajanje lica sa ulaznih fotografija\n",
        "detector = dlib.get_frontal_face_detector()\n",
        "\n",
        "plt.figure(figsize=(15,7))\n",
        "plt.subplots_adjust(0,0,1,1,0.05,0.05)\n",
        "j = 1"
      ],
      "execution_count": null,
      "outputs": []
    },
    {
      "cell_type": "code",
      "metadata": {
        "id": "_gjUxwcEQmpn"
      },
      "source": [
        "\"\"\"\n",
        "Za svako lice otkriveno na ulaznoj fotografiji pomoću dlib detektora, \n",
        "predviđa se starost i pol otkrivenog lica pomoću modela dubokog učenja pokretanjem prosleđivanja lica \n",
        "sa licem kao ulaznim podacima i izdvajaju predviđenu starost i pol.\n",
        "\"\"\"\n",
        "camera = cv2.VideoCapture(0)\n",
        "haar = cv2.CascadeClassifier('cascades/haarcascade_frontalface_alt2.xml')\n",
        "\n",
        "model = keras.models.load_model('/content/weights/gender_inception.h5')\n",
        "model.compile(optimizer = 'adam', loss = 'binary_crossentropy', metrics = ['accuracy'])\n",
        "\n",
        "for img_file in glob('/content/wiki_crop/00/1013900_1917-10-15_1960.jpg'): #['images/all.png']: \n",
        "    img = cv2.cvtColor(cv2.imread(img_file), cv2.COLOR_BGR2RGB)\n",
        "    img_h, img_w, _ = np.shape(img)\n",
        "    r = 640 / max(img_h, img_w)\n",
        "    img = cv2.resize(img, (int(img_w * r), int(img_h * r)))\n",
        "\n",
        "    # Detekcija lica korišćenjem dlib detektora\n",
        "    detected = detector(img, 0) #0)\n",
        "\n",
        "    faces = np.empty((len(detected), img_size, img_size, 3))\n",
        "    \n",
        "    if len(detected) > 0:\n",
        "        for i, d in enumerate(detected):\n",
        "            x1, y1, x2, y2, w, h = d.left(), d.top(), d.right() + 1, d.bottom() + 1, d.width(), d.height()\n",
        "            xw1 = max(int(x1 - margin * w), 0)\n",
        "            yw1 = max(int(y1 - margin * h), 0)\n",
        "            xw2 = min(int(x2 + margin * w), img_w - 1)\n",
        "            yw2 = min(int(y2 + margin * h), img_h - 1)\n",
        "            cv2.rectangle(img, (x1, y1), (x2, y2), (255, 0, 0), 2)\n",
        "            faces[i, :, :, :] = cv2.resize(img[yw1:yw2 + 1, xw1:xw2 + 1, :], (img_size, img_size))\n",
        "\n",
        "        # Predikcija godina i pola detektovanih lica\n",
        "        results = loaded_model.predict(faces)\n",
        "        predicted_genders = results[0]\n",
        "        ages = np.arange(0, 101).reshape(101, 1)\n",
        "        predicted_ages = results[1].dot(ages).flatten()\n",
        "        print(predicted_ages)\n",
        "\n",
        "        # Iscrtavanje rezultata\n",
        "        for i, d in enumerate(detected):\n",
        "            label = \"{}, {}\".format(int(predicted_ages[i]), \"F\" if predicted_genders[i][0] > 0.5 else \"M\")\n",
        "            draw_label(img, (d.left(), d.top()), label)\n",
        "\n",
        "    plt.subplot(1,4,j), plt.imshow(img), plt.title(img_file.split('\\\\')[-1].split('.')[0], size=20), plt.axis('off')\n",
        "    j += 1\n",
        "plt.show()"
      ],
      "execution_count": null,
      "outputs": []
    },
    {
      "cell_type": "code",
      "metadata": {
        "id": "YHzYan5eQtTJ"
      },
      "source": [
        "camera = cv2.VideoCapture(0)\n",
        "haar = cv2.CascadeClassifier('cascades/haarcascade_frontalface_alt2.xml')\n",
        "\n",
        "model = keras.models.load_model('/content/weights/gender_inception.h5')\n",
        "model.compile(optimizer = 'adam', loss = 'binary_crossentropy', metrics = ['accuracy'])\n",
        "\n",
        "for img_file in glob('/content/wiki_crop/00/10110600_1985-09-17_2012.jpg'): #['images/all.png']: \n",
        "    img = cv2.cvtColor(cv2.imread(img_file), cv2.COLOR_BGR2RGB)\n",
        "    img_h, img_w, _ = np.shape(img)\n",
        "    r = 640 / max(img_h, img_w)\n",
        "    img = cv2.resize(img, (int(img_w * r), int(img_h * r)))\n",
        "\n",
        "    # Detekcija lica korišćenjem dlib detektora\n",
        "    detected = detector(img, 0) #0)\n",
        "\n",
        "    faces = np.empty((len(detected), img_size, img_size, 3))\n",
        "    \n",
        "    if len(detected) > 0:\n",
        "        for i, d in enumerate(detected):\n",
        "            x1, y1, x2, y2, w, h = d.left(), d.top(), d.right() + 1, d.bottom() + 1, d.width(), d.height()\n",
        "            xw1 = max(int(x1 - margin * w), 0)\n",
        "            yw1 = max(int(y1 - margin * h), 0)\n",
        "            xw2 = min(int(x2 + margin * w), img_w - 1)\n",
        "            yw2 = min(int(y2 + margin * h), img_h - 1)\n",
        "            cv2.rectangle(img, (x1, y1), (x2, y2), (255, 0, 0), 2)\n",
        "            faces[i, :, :, :] = cv2.resize(img[yw1:yw2 + 1, xw1:xw2 + 1, :], (img_size, img_size))\n",
        "\n",
        "        # Predikcija godina i pola detektovanih lica\n",
        "        results = loaded_model.predict(faces)\n",
        "        predicted_genders = results[0]\n",
        "        ages = np.arange(0, 101).reshape(101, 1)\n",
        "        predicted_ages = results[1].dot(ages).flatten()\n",
        "        print(predicted_ages)\n",
        "\n",
        "        # Iscrtavanje rezultata\n",
        "        for i, d in enumerate(detected):\n",
        "            label = \"{}, {}\".format(int(predicted_ages[i]), \"F\" if predicted_genders[i][0] > 0.5 else \"M\")\n",
        "            draw_label(img, (d.left(), d.top()), label)\n",
        "\n",
        "    plt.subplot(1,3,j), plt.imshow(img), plt.title(img_file.split('\\\\')[-1].split('.')[0], size=20), plt.axis('off')\n",
        "    j += 1\n",
        "plt.show()"
      ],
      "execution_count": null,
      "outputs": []
    },
    {
      "cell_type": "markdown",
      "metadata": {
        "id": "gUrL6n0sQ1cs"
      },
      "source": [
        "Zaključak\n",
        "\n",
        "Rad na ovom projektu doneo mi je još jedno dodatno iskustvo u oblasti Deep Learning-a. Iako se prvi put susrećem sa ovom temom, kao i rad u Colab-u (.ipynb) uspela sam uspešno da se izborim sa svim nastalim problemima i uspešno privedem projekat kraju. Daljim radom moguće je usavršavanje mreže, dodatni trening kao i učenje kako bi se što uspešnije detektovali odredjeni parametri.\n",
        "\n"
      ]
    }
  ]
}